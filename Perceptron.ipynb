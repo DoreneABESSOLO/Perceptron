{
 "cells": [
  {
   "attachments": {},
   "cell_type": "markdown",
   "id": "4b49ac3d-d542-44d6-9613-04df0c6258da",
   "metadata": {},
   "source": [
    "\n",
    "![\"process\"](etl_process_styled.gif)\n"
   ]
  },
  {
   "cell_type": "code",
   "execution_count": 33,
   "id": "e6c607de-4dd9-4ade-a79e-c93474d8ce3d",
   "metadata": {},
   "outputs": [
    {
     "name": "stdout",
     "output_type": "stream",
     "text": [
      "✅ Accuracy du Perceptron : 96.49%\n"
     ]
    }
   ],
   "source": [
    "from pyspark.sql import SparkSession\n",
    "from pyspark.ml.feature import VectorAssembler, StandardScaler\n",
    "import numpy as np\n",
    "from sklearn.model_selection import train_test_split\n",
    "from sklearn.metrics import accuracy_score\n",
    "\n",
    "# -------------------------\n",
    "# 1. Spark Session\n",
    "# -------------------------\n",
    "spark = SparkSession.builder.getOrCreate()\n",
    "\n",
    "# Charger les données CSV\n",
    "df = spark.read.csv(\"bcw_data.csv\", header=True, inferSchema=True)\n",
    "\n",
    "# Supprimer colonnes inutiles\n",
    "bad_cols = [c for c in df.columns if c.startswith(\"_c\") or c == \"id\"]\n",
    "df = df.drop(*bad_cols)\n",
    "\n",
    "# -------------------------\n",
    "# 2. Label encoding\n",
    "# -------------------------\n",
    "from pyspark.sql.functions import when, col\n",
    "df = df.withColumn(\"label\", when(col(\"diagnosis\") == \"M\", 1).otherwise(-1))\n",
    "df = df.drop(\"diagnosis\")\n",
    "\n",
    "# -------------------------\n",
    "# 3. Features + normalisation\n",
    "# -------------------------\n",
    "feature_cols = [c for c in df.columns if c != \"label\"]\n",
    "\n",
    "assembler = VectorAssembler(inputCols=feature_cols, outputCol=\"features_vec\")\n",
    "scaler = StandardScaler(inputCol=\"features_vec\", outputCol=\"features\", withMean=True, withStd=True)\n",
    "\n",
    "df = assembler.transform(df)\n",
    "df = scaler.fit(df).transform(df).select(\"label\", \"features\")\n",
    "\n",
    "# -------------------------\n",
    "# 4. Convertir en numpy pour perceptron séquentiel\n",
    "# -------------------------\n",
    "X = np.array(df.select(\"features\").rdd.map(lambda r: r[0].toArray()).collect())\n",
    "y = np.array(df.select(\"label\").rdd.map(lambda r: r[0]).collect())\n",
    "\n",
    "# Split train/test\n",
    "X_train, X_test, y_train, y_test = train_test_split(X, y, test_size=0.2, random_state=42)\n",
    "\n",
    "# -------------------------\n",
    "# 5. Implémentation perceptron\n",
    "# -------------------------\n",
    "def perceptron_train(X, y, lr=0.01, epochs=100):\n",
    "    w = np.zeros(X.shape[1])\n",
    "    b = 0\n",
    "    for _ in range(epochs):\n",
    "        for xi, yi in zip(X, y):\n",
    "            if yi * (np.dot(w, xi) + b) <= 0:\n",
    "                w += lr * yi * xi\n",
    "                b += lr * yi\n",
    "    return w, b\n",
    "\n",
    "def perceptron_predict(X, w, b):\n",
    "    return np.sign(np.dot(X, w) + b)\n",
    "\n",
    "# Entraînement\n",
    "w, b = perceptron_train(X_train, y_train, lr=0.01, epochs=20)\n",
    "\n",
    "# Prédictions\n",
    "y_pred = perceptron_predict(X_test, w, b)\n",
    "\n",
    "# -------------------------\n",
    "# 6. Accuracy\n",
    "# -------------------------\n",
    "acc = accuracy_score(y_test, y_pred)\n",
    "print(f\"✅ Accuracy du Perceptron : {acc*100:.2f}%\")\n"
   ]
  },
  {
   "cell_type": "code",
   "execution_count": null,
   "id": "86c0365f-cfd5-44de-b3ff-d6565fa06b80",
   "metadata": {},
   "outputs": [],
   "source": []
  }
 ],
 "metadata": {
  "kernelspec": {
   "display_name": "Python 3 (ipykernel)",
   "language": "python",
   "name": "python3"
  },
  "language_info": {
   "codemirror_mode": {
    "name": "ipython",
    "version": 3
   },
   "file_extension": ".py",
   "mimetype": "text/x-python",
   "name": "python",
   "nbconvert_exporter": "python",
   "pygments_lexer": "ipython3",
   "version": "3.11.6"
  }
 },
 "nbformat": 4,
 "nbformat_minor": 5
}
